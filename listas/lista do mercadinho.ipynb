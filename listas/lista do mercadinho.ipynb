{
 "cells": [
  {
   "cell_type": "code",
   "execution_count": 17,
   "id": "f5421e65-2c3e-43c4-aec2-68f78039a191",
   "metadata": {},
   "outputs": [],
   "source": [
    "#produtos\n",
    "produtos = { \"maçã\": \"1.00R$\",\n",
    "             \"banana\": \"0.50R$\",\n",
    "             \"laranja\": \"0.75R$\",\n",
    "             \"uva\": \"2.00R$\",\n",
    "             \"pêra\": \"1.50R$\"}\n",
    "\n",
    "def adicionar_produto(nome, preço):\n",
    "    produtos[nome] = preço\n",
    "    print(f\"Produto {nome} foi adicionado com sucesso!\")\n",
    "\n",
    "def buscar_produto (nome):\n",
    "    preço = produtos.get(nome)\n",
    "    if preço:\n",
    "        print(f\"Preço da {nome}: {preço}\")\n",
    "    else:\n",
    "        print(\"Produto não listado!\")"
   ]
  },
  {
   "cell_type": "code",
   "execution_count": 20,
   "id": "17c78a2d-9d1a-4921-8e09-95e1b09f3dc3",
   "metadata": {
    "scrolled": true
   },
   "outputs": [
    {
     "name": "stdin",
     "output_type": "stream",
     "text": [
      "O que você procura? Digite 0 para sair sair\n"
     ]
    },
    {
     "name": "stdout",
     "output_type": "stream",
     "text": [
      "Produto não listado!\n"
     ]
    }
   ],
   "source": [
    "num1 = \" \"\n",
    "while num1 != \"sair\" :\n",
    "    num1 = ( input(\"O que você procura? Digite 0 para sair\") )\n",
    "    buscar_produto (num1)"
   ]
  },
  {
   "cell_type": "code",
   "execution_count": null,
   "id": "b2f56bf8-e3f3-43e5-a218-6bc0272aaef5",
   "metadata": {},
   "outputs": [],
   "source": []
  }
 ],
 "metadata": {
  "kernelspec": {
   "display_name": "Python 3 (ipykernel)",
   "language": "python",
   "name": "python3"
  },
  "language_info": {
   "codemirror_mode": {
    "name": "ipython",
    "version": 3
   },
   "file_extension": ".py",
   "mimetype": "text/x-python",
   "name": "python",
   "nbconvert_exporter": "python",
   "pygments_lexer": "ipython3",
   "version": "3.11.2"
  }
 },
 "nbformat": 4,
 "nbformat_minor": 5
}
